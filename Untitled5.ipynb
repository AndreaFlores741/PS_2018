{
  "nbformat": 4,
  "nbformat_minor": 0,
  "metadata": {
    "colab": {
      "name": "Untitled5.ipynb",
      "provenance": [],
      "include_colab_link": true
    },
    "kernelspec": {
      "name": "python3",
      "display_name": "Python 3"
    }
  },
  "cells": [
    {
      "cell_type": "markdown",
      "metadata": {
        "id": "view-in-github",
        "colab_type": "text"
      },
      "source": [
        "<a href=\"https://colab.research.google.com/github/AndreaFlores741/PS_2018/blob/master/Untitled5.ipynb\" target=\"_parent\"><img src=\"https://colab.research.google.com/assets/colab-badge.svg\" alt=\"Open In Colab\"/></a>"
      ]
    },
    {
      "cell_type": "code",
      "metadata": {
        "id": "DgMphrDHa7yC",
        "colab_type": "code",
        "colab": {}
      },
      "source": [
        "try:\n",
        "  # %tensorflow_version only exists in Colab.\n",
        "  %tensorflow_version 2.x\n",
        "except Exception:\n",
        "  pass"
      ],
      "execution_count": 0,
      "outputs": []
    },
    {
      "cell_type": "code",
      "metadata": {
        "id": "EWw0snZHa-WF",
        "colab_type": "code",
        "outputId": "27a1242c-3081-4add-c44f-84e1f2ad2f51",
        "colab": {
          "base_uri": "https://localhost:8080/",
          "height": 34
        }
      },
      "source": [
        "from __future__ import absolute_import, division, print_function, unicode_literals\n",
        "\n",
        "# TensorFlow y tf.keras\n",
        "import tensorflow as tf\n",
        "from tensorflow import keras\n",
        "\n",
        "# Librerias de ayuda\n",
        "import numpy as np\n",
        "import matplotlib.pyplot as plt\n",
        "\n",
        "print(tf.__version__)"
      ],
      "execution_count": 0,
      "outputs": [
        {
          "output_type": "stream",
          "text": [
            "2.0.0\n"
          ],
          "name": "stdout"
        }
      ]
    },
    {
      "cell_type": "code",
      "metadata": {
        "id": "x6CtysUGbnPW",
        "colab_type": "code",
        "outputId": "f84509f2-fe5a-4a9b-b351-3215885c17fb",
        "colab": {
          "base_uri": "https://localhost:8080/",
          "height": 122
        }
      },
      "source": [
        "from google.colab import drive\n",
        "drive.mount('/content/gdrive')"
      ],
      "execution_count": 0,
      "outputs": [
        {
          "output_type": "stream",
          "text": [
            "Go to this URL in a browser: https://accounts.google.com/o/oauth2/auth?client_id=947318989803-6bn6qk8qdgf4n4g3pfee6491hc0brc4i.apps.googleusercontent.com&redirect_uri=urn%3aietf%3awg%3aoauth%3a2.0%3aoob&response_type=code&scope=email%20https%3a%2f%2fwww.googleapis.com%2fauth%2fdocs.test%20https%3a%2f%2fwww.googleapis.com%2fauth%2fdrive%20https%3a%2f%2fwww.googleapis.com%2fauth%2fdrive.photos.readonly%20https%3a%2f%2fwww.googleapis.com%2fauth%2fpeopleapi.readonly\n",
            "\n",
            "Enter your authorization code:\n",
            "··········\n",
            "Mounted at /content/gdrive\n"
          ],
          "name": "stdout"
        }
      ]
    },
    {
      "cell_type": "code",
      "metadata": {
        "id": "Rl7vz6XXi7ld",
        "colab_type": "code",
        "colab": {}
      },
      "source": [
        "from tensorflow.keras.preprocessing.image import ImageDataGenerator\n",
        "train_datagen = ImageDataGenerator(rescale = 1./255,\n",
        "                                   shear_range = 0.2,\n",
        "                                   zoom_range = 0.2,\n",
        "                                   horizontal_flip = True)\n",
        "\n",
        "test_datagen = ImageDataGenerator(rescale = 1./255)"
      ],
      "execution_count": 0,
      "outputs": []
    },
    {
      "cell_type": "code",
      "metadata": {
        "id": "A4ws8xb2bA3t",
        "colab_type": "code",
        "outputId": "dc15a4e6-c3a7-4e1e-b98d-37c849457309",
        "colab": {
          "base_uri": "https://localhost:8080/",
          "height": 54
        }
      },
      "source": [
        "batch_size = 32\n",
        "from tensorflow.keras.preprocessing.image import ImageDataGenerator\n",
        "\n",
        "# Flow training images in batches of 128 using train_datagen generator\n",
        "train_generator = train_datagen.flow_from_directory(\n",
        "        '/content/gdrive/My Drive/Colab Notebooks/dataset/dataset',  # This is the source directory for training images\n",
        "        target_size=(64, 64),  # All images will be resized to 200 x 200\n",
        "        batch_size=batch_size,\n",
        "        # Specify the classes explicitly\n",
        "        classes = ['soybean','soil','grass','broadleaf'],\n",
        "        # Since we use categorical_crossentropy loss, we need categorical labels\n",
        "        class_mode='categorical')"
      ],
      "execution_count": 0,
      "outputs": [
        {
          "output_type": "stream",
          "text": [
            "Found 4330 images belonging to 4 classes.\n"
          ],
          "name": "stdout"
        }
      ]
    },
    {
      "cell_type": "code",
      "metadata": {
        "id": "tnlhYmqFcFM9",
        "colab_type": "code",
        "outputId": "af560a6c-9e3c-41aa-bdd3-d01fd2807be0",
        "colab": {
          "base_uri": "https://localhost:8080/",
          "height": 54
        }
      },
      "source": [
        "# Flow training images in batches of 128 using train_datagen generator\n",
        "test_generator = train_datagen.flow_from_directory(\n",
        "        '/content/gdrive/My Drive/Colab Notebooks/dataset/testset',  # This is the source directory for training images\n",
        "        target_size=(64, 64),  # All images will be resized to 200 x 200\n",
        "        batch_size=batch_size,\n",
        "        # Specify the classes explicitly\n",
        "        classes = ['soybean','soil','grass','broadleaf'],\n",
        "        # Since we use categorical_crossentropy loss, we need categorical labels\n",
        "        class_mode='categorical')"
      ],
      "execution_count": 0,
      "outputs": [
        {
          "output_type": "stream",
          "text": [
            "Found 216 images belonging to 4 classes.\n"
          ],
          "name": "stdout"
        }
      ]
    },
    {
      "cell_type": "code",
      "metadata": {
        "id": "qnrL5LjpcQkt",
        "colab_type": "code",
        "colab": {}
      },
      "source": [
        "print(train_generator[0][0])\n",
        "\n",
        "plt.figure()\n",
        "plt.imshow(train_generator[1][1])\n",
        "plt.colorbar()\n",
        "plt.grid(False)\n",
        "plt.show()"
      ],
      "execution_count": 0,
      "outputs": []
    },
    {
      "cell_type": "code",
      "metadata": {
        "colab_type": "code",
        "id": "9ODch-OFCaW4",
        "colab": {}
      },
      "source": [
        "model = keras.Sequential([\n",
        "    keras.layers.Conv2D(32, (3, 3), input_shape = (64, 64, 3), activation = 'relu'),\n",
        "    keras.layers.MaxPooling2D(pool_size = (2, 2)),\n",
        "    keras.layers.Conv2D(32, (3, 3), activation = 'relu'),\n",
        "    keras.layers.MaxPooling2D(pool_size = (2, 2)),\n",
        "    keras.layers.Flatten(input_shape=(64, 64, 3)),\n",
        "    keras.layers.Dense(128, activation='relu'),\n",
        "    keras.layers.Dense(4, activation='softmax')\n",
        "])"
      ],
      "execution_count": 0,
      "outputs": []
    },
    {
      "cell_type": "code",
      "metadata": {
        "id": "QY58s2FNkpkl",
        "colab_type": "code",
        "colab": {}
      },
      "source": [
        "model.compile(optimizer='adam',\n",
        "              loss='categorical_crossentropy',\n",
        "              metrics=['accuracy'])"
      ],
      "execution_count": 0,
      "outputs": []
    },
    {
      "cell_type": "code",
      "metadata": {
        "id": "3W49XTk7lJ9s",
        "colab_type": "code",
        "outputId": "65f140bf-c0c7-4610-f95b-62d17882e705",
        "colab": {
          "base_uri": "https://localhost:8080/",
          "height": 119
        }
      },
      "source": [
        "classes = ['soybean','soil','grass','broadleaf']\n",
        "print(test_generator.labels)"
      ],
      "execution_count": 0,
      "outputs": [
        {
          "output_type": "stream",
          "text": [
            "[0 0 0 0 0 0 0 0 0 0 0 0 0 0 0 0 0 0 0 0 0 0 0 0 0 0 0 0 0 0 0 0 0 0 0 0 0\n",
            " 0 0 0 0 0 0 0 0 0 0 0 0 0 0 0 0 1 1 1 1 1 1 1 1 1 1 1 1 1 1 1 1 1 1 1 1 1\n",
            " 1 1 1 1 1 1 1 1 1 1 1 1 1 1 1 1 1 1 1 1 1 1 1 1 1 1 1 1 1 1 1 1 1 2 2 2 2\n",
            " 2 2 2 2 2 2 2 2 2 2 2 2 2 2 2 2 2 2 2 2 2 2 2 2 2 2 2 2 2 2 2 2 2 2 2 2 2\n",
            " 2 2 2 2 2 2 2 2 2 2 2 2 2 2 3 3 3 3 3 3 3 3 3 3 3 3 3 3 3 3 3 3 3 3 3 3 3\n",
            " 3 3 3 3 3 3 3 3 3 3 3 3 3 3 3 3 3 3 3 3 3 3 3 3 3 3 3 3 3 3 3]\n"
          ],
          "name": "stdout"
        }
      ]
    },
    {
      "cell_type": "code",
      "metadata": {
        "id": "GomZsRUKQxxj",
        "colab_type": "code",
        "outputId": "013dbd66-e286-442f-e323-8c9ca5957015",
        "colab": {
          "base_uri": "https://localhost:8080/",
          "height": 391
        }
      },
      "source": [
        "model.summary()"
      ],
      "execution_count": 28,
      "outputs": [
        {
          "output_type": "stream",
          "text": [
            "Model: \"sequential_1\"\n",
            "_________________________________________________________________\n",
            "Layer (type)                 Output Shape              Param #   \n",
            "=================================================================\n",
            "conv2d_3 (Conv2D)            (None, 62, 62, 32)        896       \n",
            "_________________________________________________________________\n",
            "max_pooling2d_3 (MaxPooling2 (None, 31, 31, 32)        0         \n",
            "_________________________________________________________________\n",
            "conv2d_4 (Conv2D)            (None, 29, 29, 32)        9248      \n",
            "_________________________________________________________________\n",
            "max_pooling2d_4 (MaxPooling2 (None, 14, 14, 32)        0         \n",
            "_________________________________________________________________\n",
            "flatten_1 (Flatten)          (None, 6272)              0         \n",
            "_________________________________________________________________\n",
            "dense_2 (Dense)              (None, 128)               802944    \n",
            "_________________________________________________________________\n",
            "dense_3 (Dense)              (None, 4)                 516       \n",
            "=================================================================\n",
            "Total params: 813,604\n",
            "Trainable params: 813,604\n",
            "Non-trainable params: 0\n",
            "_________________________________________________________________\n"
          ],
          "name": "stdout"
        }
      ]
    },
    {
      "cell_type": "code",
      "metadata": {
        "id": "89laOVoMkv_s",
        "colab_type": "code",
        "outputId": "ac0f879d-f3b2-4a79-b0b4-69bc61493cb4",
        "colab": {
          "base_uri": "https://localhost:8080/",
          "height": 391
        }
      },
      "source": [
        "model.fit(\n",
        "    train_generator,\n",
        "\n",
        "    epochs=10,\n",
        "    #validation_data=test_generator,\n",
        "    #validation_steps=100\n",
        ")"
      ],
      "execution_count": 22,
      "outputs": [
        {
          "output_type": "stream",
          "text": [
            "Train for 136 steps\n",
            "Epoch 1/10\n",
            "136/136 [==============================] - 39s 287ms/step - loss: 0.2577 - accuracy: 0.9060\n",
            "Epoch 2/10\n",
            "136/136 [==============================] - 39s 286ms/step - loss: 0.2735 - accuracy: 0.8942\n",
            "Epoch 3/10\n",
            "136/136 [==============================] - 39s 287ms/step - loss: 0.2343 - accuracy: 0.9106\n",
            "Epoch 4/10\n",
            "136/136 [==============================] - 40s 293ms/step - loss: 0.2272 - accuracy: 0.9113\n",
            "Epoch 5/10\n",
            "136/136 [==============================] - 39s 286ms/step - loss: 0.1983 - accuracy: 0.9222\n",
            "Epoch 6/10\n",
            "136/136 [==============================] - 39s 284ms/step - loss: 0.2119 - accuracy: 0.9145\n",
            "Epoch 7/10\n",
            "136/136 [==============================] - 39s 285ms/step - loss: 0.2169 - accuracy: 0.9187\n",
            "Epoch 8/10\n",
            "136/136 [==============================] - 39s 286ms/step - loss: 0.1977 - accuracy: 0.9226\n",
            "Epoch 9/10\n",
            "136/136 [==============================] - 39s 285ms/step - loss: 0.1784 - accuracy: 0.9319\n",
            "Epoch 10/10\n",
            "136/136 [==============================] - 39s 285ms/step - loss: 0.2045 - accuracy: 0.9229\n"
          ],
          "name": "stdout"
        },
        {
          "output_type": "execute_result",
          "data": {
            "text/plain": [
              "<tensorflow.python.keras.callbacks.History at 0x7fb5e440bcc0>"
            ]
          },
          "metadata": {
            "tags": []
          },
          "execution_count": 22
        }
      ]
    },
    {
      "cell_type": "code",
      "metadata": {
        "id": "hpcGnlyoSWNM",
        "colab_type": "code",
        "outputId": "725bcba3-f053-4082-f44b-93da9278e44c",
        "colab": {
          "base_uri": "https://localhost:8080/",
          "height": 68
        }
      },
      "source": [
        "test_loss, test_acc = model.evaluate(test_generator,  verbose=2)\n",
        "\n",
        "print('\\nTest accuracy:', test_acc)"
      ],
      "execution_count": 24,
      "outputs": [
        {
          "output_type": "stream",
          "text": [
            "7/7 - 1s - loss: 0.1961 - accuracy: 0.9306\n",
            "\n",
            "Test accuracy: 0.9305556\n"
          ],
          "name": "stdout"
        }
      ]
    },
    {
      "cell_type": "code",
      "metadata": {
        "id": "J9nruXCqUNZw",
        "colab_type": "code",
        "outputId": "ea247f54-19e0-4d2b-a39e-c5769db103af",
        "colab": {
          "base_uri": "https://localhost:8080/",
          "height": 34
        }
      },
      "source": [
        "from keras.preprocessing import image\n",
        "\n",
        "test_image = image.load_img('/content/gdrive/My Drive/Colab Notebooks/dataset/dataset/soybean/7376.tif', target_size = (64, 64))\n",
        "test_image = image.img_to_array(test_image)\n",
        "test_image = np.expand_dims(test_image, axis = 0)\n",
        "predictions = model.predict(test_image)"
      ],
      "execution_count": 25,
      "outputs": [
        {
          "output_type": "stream",
          "text": [
            "Using TensorFlow backend.\n"
          ],
          "name": "stderr"
        }
      ]
    },
    {
      "cell_type": "code",
      "metadata": {
        "id": "vaRjtn7fUsPw",
        "colab_type": "code",
        "outputId": "af46c8df-9def-4a74-d4ed-9e7e24626979",
        "colab": {
          "base_uri": "https://localhost:8080/",
          "height": 51
        }
      },
      "source": [
        "test_image = image.load_img(test_generator.filepaths[123], target_size = (64, 64))\n",
        "test_image = image.img_to_array(test_image)\n",
        "test_image = np.expand_dims(test_image, axis = 0)\n",
        "predictions = model.predict(test_image)\n",
        "print(np.argmax(predictions[0]))\n",
        "print(test_generator.labels[123])"
      ],
      "execution_count": 26,
      "outputs": [
        {
          "output_type": "stream",
          "text": [
            "2\n",
            "2\n"
          ],
          "name": "stdout"
        }
      ]
    },
    {
      "cell_type": "code",
      "metadata": {
        "id": "DNbqN9KtV2cZ",
        "colab_type": "code",
        "outputId": "6c9a23ab-7a0b-4e4a-fe2e-deac67c07958",
        "colab": {
          "base_uri": "https://localhost:8080/",
          "height": 51
        }
      },
      "source": [
        "print(test_generator.filepaths[58])\n",
        "print(test_generator.labels[58])"
      ],
      "execution_count": 0,
      "outputs": [
        {
          "output_type": "stream",
          "text": [
            "/content/gdrive/My Drive/Colab Notebooks/dataset/testset/soil/3006.tif\n",
            "1\n"
          ],
          "name": "stdout"
        }
      ]
    },
    {
      "cell_type": "code",
      "metadata": {
        "id": "o4rgJ37vjP2F",
        "colab_type": "code",
        "colab": {}
      },
      "source": [
        "# Adding a second convolutional layer\n",
        "classifier.add(Conv2D(32, (3, 3), activation = 'relu'))\n",
        "classifier.add(MaxPooling2D(pool_size = (2, 2)))\n",
        "\n",
        "# Step 3 - Flattening\n",
        "classifier.add(Flatten())\n",
        "\n",
        "# Step 4 - Full connection\n",
        "classifier.add(Dense(units = 128, activation = 'relu'))\n",
        "classifier.add(Dense(units = 1, activation = 'sigmoid'))\n",
        "\n",
        "# Compiling the CNN\n",
        "classifier.compile(optimizer = 'adam', loss = 'binary_crossentropy', metrics = ['accuracy'])"
      ],
      "execution_count": 0,
      "outputs": []
    },
    {
      "cell_type": "code",
      "metadata": {
        "id": "weE4jlbmjT31",
        "colab_type": "code",
        "colab": {}
      },
      "source": [
        ""
      ],
      "execution_count": 0,
      "outputs": []
    },
    {
      "cell_type": "code",
      "metadata": {
        "id": "aeX4NkvKil0-",
        "colab_type": "code",
        "colab": {}
      },
      "source": [
        "classifier.fit_generator(training_set,\n",
        "                         steps_per_epoch = 2000,\n",
        "                         epochs =5,\n",
        "                         validation_data = test_set,\n",
        "                         validation_steps = 500)"
      ],
      "execution_count": 0,
      "outputs": []
    },
    {
      "cell_type": "code",
      "metadata": {
        "id": "yLR21lKH4Z9x",
        "colab_type": "code",
        "colab": {}
      },
      "source": [
        "model.save('/content/gdrive/My Drive/Colab Notebooks/models/weedmodelF.h5')"
      ],
      "execution_count": 0,
      "outputs": []
    },
    {
      "cell_type": "code",
      "metadata": {
        "id": "xQLsdmFVMyvS",
        "colab_type": "code",
        "colab": {}
      },
      "source": [
        "model_new  = keras.models.load_model('/content/gdrive/My Drive/Colab Notebooks/models/weedmodel.h5')"
      ],
      "execution_count": 0,
      "outputs": []
    }
  ]
}